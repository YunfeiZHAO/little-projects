{
 "cells": [
  {
   "cell_type": "markdown",
   "metadata": {
    "colab_type": "text",
    "deletable": false,
    "editable": false,
    "id": "Bqd6KuGKyEvT",
    "nbgrader": {
     "cell_type": "markdown",
     "checksum": "18bd1c0487b124388009936e166b3375",
     "grade": false,
     "grade_id": "cell-977f85390aded314",
     "locked": true,
     "schema_version": 3,
     "solution": false,
     "task": false
    }
   },
   "source": [
    "# Project 2\n",
    "In addition to answering the bolded questions on Coursera, also attach your notebook, both as .ipynb and .html.\n",
    "\n",
    "In the following exercise, we will perform exploratory data analysis (EDA) to extract insights using Python. This assignment continues off of the previous assignment (Project 1). If you wish, you may copy and paste your previous code into this notebook. "
   ]
  },
  {
   "cell_type": "markdown",
   "metadata": {
    "colab_type": "text",
    "deletable": false,
    "editable": false,
    "id": "YPN-_BJ4yEvU",
    "nbgrader": {
     "cell_type": "markdown",
     "checksum": "95eeaeb74991167598598514c1433150",
     "grade": false,
     "grade_id": "cell-ad996e6b877e3f33",
     "locked": true,
     "schema_version": 3,
     "solution": false,
     "task": false
    }
   },
   "source": [
    "## Part A\n",
    "\n",
    "First, we return to the College dataset. This dataset contains the following variables from 777 different universities and colleges in the US:\n",
    "\n",
    "| Column | Description | \n",
    "|:-|:-|\n",
    "|Private | Public/private indicator|\n",
    "|Apps | Number of applications received|\n",
    "|Accept | Number of applicants accepted|\n",
    "|Enroll | Number of new students enrolled|\n",
    "|Top10perc | New students from top 10\\% of high school class|\n",
    "|Top25perc | New students from top 25\\% of high school class|\n",
    "|F.Undergrad | Number of full-time undergraduates|\n",
    "|P.Undergrad | Number of part-time undergraduates|\n",
    "|Outstate | Out-of-state tuition|\n",
    "|Room.Board | Room and board costs|\n",
    "|Books | Estimated book costs|\n",
    "|Personal | Estimated personal spending|\n",
    "|PhD | Percent of faculty with Ph.D.’s|\n",
    "|Terminal | Percent of faculty with terminal degree|\n",
    "|S.F.Ratio | Student/faculty ratio|\n",
    "|Perc.alumni | Percent of alumni who donate|\n",
    "|Expend | Instructional expenditure per student|\n",
    "|Grad.Rate | Graduation rate|"
   ]
  },
  {
   "cell_type": "code",
   "execution_count": null,
   "metadata": {
    "colab": {},
    "colab_type": "code",
    "id": "uzacwjrMyEvV"
   },
   "outputs": [],
   "source": [
    "import pandas as pd"
   ]
  },
  {
   "cell_type": "code",
   "execution_count": null,
   "metadata": {
    "colab": {},
    "colab_type": "code",
    "id": "GD50ivo1yEvZ"
   },
   "outputs": [],
   "source": [
    "college = pd.read_csv('College.csv')"
   ]
  },
  {
   "cell_type": "markdown",
   "metadata": {
    "colab_type": "text",
    "deletable": false,
    "editable": false,
    "id": "K_tb043DyEvc",
    "nbgrader": {
     "cell_type": "markdown",
     "checksum": "c76b202ae8b8aeb084e28e68a4446ce3",
     "grade": false,
     "grade_id": "cell-85703ca62ec84173",
     "locked": true,
     "schema_version": 3,
     "solution": false,
     "task": false
    }
   },
   "source": [
    "1. Use the `seaborn` `pairplot()` function on the original dataframe with all universities to produce a scatterplot matrix of the ﬁrst ten columns of the data. Remember to use the `%matplotlib` inline command for plotting in Jupyter. Comment on your observations."
   ]
  },
  {
   "cell_type": "code",
   "execution_count": null,
   "metadata": {
    "colab": {},
    "colab_type": "code",
    "id": "Xb32gostyEvd"
   },
   "outputs": [],
   "source": []
  },
  {
   "cell_type": "markdown",
   "metadata": {
    "colab_type": "text",
    "deletable": false,
    "editable": false,
    "id": "sM2Si5ojyEvg",
    "nbgrader": {
     "cell_type": "markdown",
     "checksum": "93fa86f9f9d88cd57aaecefebe67f722",
     "grade": false,
     "grade_id": "cell-9456122c3a73a7a8",
     "locked": true,
     "schema_version": 3,
     "solution": false,
     "task": false
    }
   },
   "source": [
    "2. Use the `seaborn` `boxplot()` function on the original dataframe with all universities to produce side-by-side box plots of ‘Outstate’ versus ‘Private’."
   ]
  },
  {
   "cell_type": "code",
   "execution_count": null,
   "metadata": {
    "colab": {},
    "colab_type": "code",
    "id": "4BVxghbiyEvg"
   },
   "outputs": [],
   "source": []
  },
  {
   "cell_type": "markdown",
   "metadata": {
    "colab_type": "text",
    "deletable": false,
    "editable": false,
    "id": "qIgEShMJyEvj",
    "nbgrader": {
     "cell_type": "markdown",
     "checksum": "eeb5a021bfb94de87e03486ee11e196e",
     "grade": false,
     "grade_id": "cell-370ed7ab09bbe2c7",
     "locked": true,
     "schema_version": 3,
     "solution": false,
     "task": false
    }
   },
   "source": [
    "3. Create a new qualitative variable named `large_university` by binning the ‘Enroll’ column. We are going to divide universities into two groups based on whether the number of new students enrolled exceeds the average (mean) of all new students enrolled."
   ]
  },
  {
   "cell_type": "code",
   "execution_count": null,
   "metadata": {
    "colab": {},
    "colab_type": "code",
    "deletable": false,
    "id": "3h7ySrTDyEvk",
    "nbgrader": {
     "cell_type": "code",
     "checksum": "9dde456575800d2a44e4d728e5e24861",
     "grade": false,
     "grade_id": "cell-cea2b05ee1e5a3cc",
     "locked": false,
     "schema_version": 3,
     "solution": true,
     "task": false
    }
   },
   "outputs": [],
   "source": [
    "# your code here\n",
    "\n",
    "\n",
    "# TODO: Uncomment and make changes\n",
    "# large_university = pd.Series()"
   ]
  },
  {
   "cell_type": "code",
   "execution_count": null,
   "metadata": {
    "colab": {},
    "colab_type": "code",
    "deletable": false,
    "editable": false,
    "id": "oQgBfczNyEvn",
    "nbgrader": {
     "cell_type": "code",
     "checksum": "5115fa30e03c97a33c2f39f966ac62ee",
     "grade": true,
     "grade_id": "cell-ec7e54572f023500",
     "locked": true,
     "points": 15,
     "schema_version": 3,
     "solution": false,
     "task": false
    }
   },
   "outputs": [],
   "source": [
    "# Please do NOT delete this cell"
   ]
  },
  {
   "cell_type": "markdown",
   "metadata": {
    "colab_type": "text",
    "deletable": false,
    "editable": false,
    "id": "Rt51gp77yEvr",
    "nbgrader": {
     "cell_type": "markdown",
     "checksum": "a3e7c18d84f3b581c0328f537ca06db3",
     "grade": false,
     "grade_id": "cell-8af2c4be31accf2f",
     "locked": true,
     "schema_version": 3,
     "solution": false,
     "task": false
    }
   },
   "source": [
    "4. Create a dataframe called `large_universities` that only includes large universities."
   ]
  },
  {
   "cell_type": "code",
   "execution_count": null,
   "metadata": {
    "colab": {},
    "colab_type": "code",
    "id": "WKPH3leZyEvr"
   },
   "outputs": [],
   "source": []
  },
  {
   "cell_type": "markdown",
   "metadata": {
    "colab_type": "text",
    "id": "mD49YGzJyEvu"
   },
   "source": [
    "5. Use the `pandas` `describe(include = ‘all’)` function on large_universities to produce a numerical summary of each column. Within this dataframe, what is the $75^{th}$ percentile for the column ‘Enroll’? Name this variable `enroll_answer`."
   ]
  },
  {
   "cell_type": "code",
   "execution_count": null,
   "metadata": {
    "colab": {},
    "colab_type": "code",
    "deletable": false,
    "id": "-z6cFo5GyEvu",
    "nbgrader": {
     "cell_type": "code",
     "checksum": "3f4eee64881aab8c0ba22adf5a57cabd",
     "grade": false,
     "grade_id": "cell-3ef4af59894e3473",
     "locked": false,
     "schema_version": 3,
     "solution": true,
     "task": false
    }
   },
   "outputs": [],
   "source": [
    "# your code here\n",
    "\n",
    "\n",
    "# TODO: Uncomment and make changes\n",
    "# enroll_answer = 0"
   ]
  },
  {
   "cell_type": "code",
   "execution_count": null,
   "metadata": {
    "colab": {},
    "colab_type": "code",
    "deletable": false,
    "editable": false,
    "id": "p4c3JLI1yEvy",
    "nbgrader": {
     "cell_type": "code",
     "checksum": "c04f6b10120ac144e4745427577754da",
     "grade": true,
     "grade_id": "cell-459609cd052ab65d",
     "locked": true,
     "points": 15,
     "schema_version": 3,
     "solution": false,
     "task": false
    }
   },
   "outputs": [],
   "source": [
    "# Please do NOT delete this cell"
   ]
  },
  {
   "cell_type": "markdown",
   "metadata": {
    "colab_type": "text",
    "deletable": false,
    "editable": false,
    "id": "g_F_6U3CyEv1",
    "nbgrader": {
     "cell_type": "markdown",
     "checksum": "15502e2123b6fc8fb416a8ed0f1556e6",
     "grade": false,
     "grade_id": "cell-18272ee0432cf4a6",
     "locked": true,
     "schema_version": 3,
     "solution": false,
     "task": false
    }
   },
   "source": [
    "6. Use the `seaborn` `boxplot()` function on the large_university variable to determine whether larger universities are more expensive."
   ]
  },
  {
   "cell_type": "code",
   "execution_count": null,
   "metadata": {
    "colab": {},
    "colab_type": "code",
    "id": "jm9IbzVWyEv1"
   },
   "outputs": [],
   "source": []
  },
  {
   "cell_type": "markdown",
   "metadata": {
    "colab_type": "text",
    "deletable": false,
    "editable": false,
    "id": "mFsFTFMcyEv4",
    "nbgrader": {
     "cell_type": "markdown",
     "checksum": "f932986f4ef164b99ce3c146c2135206",
     "grade": false,
     "grade_id": "cell-73f8c5b263395346",
     "locked": true,
     "schema_version": 3,
     "solution": false,
     "task": false
    }
   },
   "source": [
    "7. To further examine the relationship between the size of a university against its out-of-state tuition, plot a scatter plot."
   ]
  },
  {
   "cell_type": "code",
   "execution_count": null,
   "metadata": {
    "colab": {},
    "colab_type": "code",
    "id": "jkpmV0ijyEv5"
   },
   "outputs": [],
   "source": []
  },
  {
   "cell_type": "markdown",
   "metadata": {
    "colab_type": "text",
    "id": "9SrjyvnIyEv8"
   },
   "source": [
    "8. Use `matplotlib.pyplot.hist()` or `seaborn.distplot()` to produce some histograms with different numbers of bins for a few of the quantitative variables. You may ﬁnd the `matplotlib.pyplot.subplot()` function useful to plot multiple graphs under a single codeblock. In particular, create a histogram to examine the number of applications received with a bin size of 200."
   ]
  },
  {
   "cell_type": "code",
   "execution_count": null,
   "metadata": {
    "colab": {},
    "colab_type": "code",
    "id": "AFBICd1YyEv8"
   },
   "outputs": [],
   "source": []
  },
  {
   "cell_type": "markdown",
   "metadata": {
    "colab_type": "text",
    "deletable": false,
    "editable": false,
    "id": "xFk6Nq0jyEv-",
    "nbgrader": {
     "cell_type": "markdown",
     "checksum": "3aa5a0df931a4ff4cc1625d726df2886",
     "grade": false,
     "grade_id": "cell-e153c4b890c2c7a7",
     "locked": true,
     "schema_version": 3,
     "solution": false,
     "task": false
    }
   },
   "source": [
    "9. We are interested in the acceptance rate of these universities. To calculate the acceptance rate, we take the ‘Accept’ column and divide by the ‘Apps’ column. Add this column to a copied version of the original dataframe. Remember to copy the dataframe first before performing feature transformation, as we do not wish to alter or inadvertently create new columns in our original data."
   ]
  },
  {
   "cell_type": "code",
   "execution_count": null,
   "metadata": {
    "colab": {},
    "colab_type": "code",
    "id": "38ZlfzCVyEv_"
   },
   "outputs": [],
   "source": []
  },
  {
   "cell_type": "markdown",
   "metadata": {
    "colab_type": "text",
    "deletable": false,
    "editable": false,
    "id": "t88w6xy8yEwC",
    "nbgrader": {
     "cell_type": "markdown",
     "checksum": "6182addc1cfe5570c0eeefc34b9aed33",
     "grade": false,
     "grade_id": "cell-20a06caae307f3c5",
     "locked": true,
     "schema_version": 3,
     "solution": false,
     "task": false
    }
   },
   "source": [
    "10. Continue exploring the data and provide a brief summary of what you discover."
   ]
  },
  {
   "cell_type": "code",
   "execution_count": null,
   "metadata": {
    "colab": {},
    "colab_type": "code",
    "id": "RmmilzJZyEwD"
   },
   "outputs": [],
   "source": []
  },
  {
   "cell_type": "markdown",
   "metadata": {
    "colab_type": "text",
    "id": "jQ5PxEcKyEwF"
   },
   "source": [
    "## Part B\n",
    "\n",
    "Next, let’s turn to the Boston housing dataset, which contains the following variables from 506 different towns in Boston collected by the US Census Service:\n",
    "\n",
    "|Column |Description|\n",
    "|:-|:-|\n",
    "|CRIM | per capita crime rate by town|\n",
    "|ZN | proportion of residential land zoned for lots over 25,000 sq.ft|\n",
    "|INDUS | proportion of non-retail business acres per town|\n",
    "|CHAS | Charles River dummy variable (1 if tract bounds river; 0 otherwise)|\n",
    "|NOX | nitric oxides concentration (parts per 10 million)|\n",
    "|RM | average number of rooms per dwelling|\n",
    "|AGE | proportion of owner-occupied units built prior to 1940|\n",
    "|DIS | weighted distances to five Boston employment centres|\n",
    "|RAD | index of accessibility to radial highways|\n",
    "|TAX | full-value property-tax rate per \\$10,000|\n",
    "|PTRATIO | pupil-teacher ratio by town|\n",
    "|B | $1000(B_k - 0.63)^2$ where $B_k$ is the proportion of African Americans by town|\n",
    "|LSTAT | \\% lower status of the population|\n",
    "|MEDV | Median value of owner-occupied homes in \\$1000's|"
   ]
  },
  {
   "cell_type": "markdown",
   "metadata": {
    "colab_type": "text",
    "id": "KzWj1r6hyEwF"
   },
   "source": [
    "1. To begin, load the Boston dataset. We can fetch this dataset by calling sklearn’s API."
   ]
  },
  {
   "cell_type": "code",
   "execution_count": null,
   "metadata": {
    "colab": {},
    "colab_type": "code",
    "id": "RfVxbVdtyEwG"
   },
   "outputs": [],
   "source": [
    "from sklearn.datasets import load_boston\n",
    "boston_dataset = load_boston()\n",
    "boston = pd.DataFrame(data = boston_dataset.data, columns = boston_dataset.feature_names)\n",
    "boston['MEDV'] = pd.Series(boston_dataset.target)\n",
    "boston.head()"
   ]
  },
  {
   "cell_type": "markdown",
   "metadata": {
    "colab_type": "text",
    "deletable": false,
    "editable": false,
    "id": "0-uqi_a2yEwJ",
    "nbgrader": {
     "cell_type": "markdown",
     "checksum": "fb96035f6240ecd7ad1b25a9d4d31694",
     "grade": false,
     "grade_id": "cell-a4c34afad82ecc38",
     "locked": true,
     "schema_version": 3,
     "solution": false,
     "task": false
    }
   },
   "source": [
    "2. Make pairwise scatterplots of some predictors (columns) in this dataset. Since this dataset includes many predictors, avoid using the `seaborn` `pairplot()` function with all the predictors to minimize run-time. Comment on your observations. "
   ]
  },
  {
   "cell_type": "code",
   "execution_count": null,
   "metadata": {
    "colab": {},
    "colab_type": "code",
    "id": "qieBMi6QyEwK"
   },
   "outputs": [],
   "source": []
  },
  {
   "cell_type": "markdown",
   "metadata": {
    "colab_type": "text",
    "id": "TUYPtkvLyEwM"
   },
   "source": [
    "3. Are any of the predictors associated with per capita crime rate?  If so, explain the relationship."
   ]
  },
  {
   "cell_type": "code",
   "execution_count": null,
   "metadata": {
    "colab": {},
    "colab_type": "code",
    "id": "Mr1zowJ6yEwM"
   },
   "outputs": [],
   "source": []
  },
  {
   "cell_type": "markdown",
   "metadata": {
    "colab_type": "text",
    "id": "igADy_GhyEwO"
   },
   "source": [
    "4. Do any of the suburbs of Boston appear to have particularly high crime rates? Tax rates? Pupil-teacher ratios? Comment on the range of each predictor."
   ]
  },
  {
   "cell_type": "code",
   "execution_count": null,
   "metadata": {
    "colab": {},
    "colab_type": "code",
    "id": "rdBU8lHwyEwO"
   },
   "outputs": [],
   "source": []
  },
  {
   "cell_type": "markdown",
   "metadata": {
    "colab_type": "text",
    "id": "1vF8gEngyEwR"
   },
   "source": [
    "5. Count the number of towns in this dataset that are bound to the Charles river and name this number as the variable `charles`."
   ]
  },
  {
   "cell_type": "code",
   "execution_count": null,
   "metadata": {
    "colab": {},
    "colab_type": "code",
    "deletable": false,
    "id": "eZOUmyBayEwS",
    "nbgrader": {
     "cell_type": "code",
     "checksum": "36731ca88c68ca12b4065ae58ac61a0a",
     "grade": false,
     "grade_id": "cell-668fd00edec9ddde",
     "locked": false,
     "schema_version": 3,
     "solution": true,
     "task": false
    }
   },
   "outputs": [],
   "source": [
    "# your code here\n",
    "\n",
    "\n",
    "# TODO: Uncomment and make changes\n",
    "# charles = 0"
   ]
  },
  {
   "cell_type": "code",
   "execution_count": null,
   "metadata": {
    "colab": {},
    "colab_type": "code",
    "deletable": false,
    "editable": false,
    "id": "2L6mQ06gyEwU",
    "nbgrader": {
     "cell_type": "code",
     "checksum": "b7e373e867b9f3d14df63e1d0aabda52",
     "grade": true,
     "grade_id": "cell-2fda71bd46e1e888",
     "locked": true,
     "points": 15,
     "schema_version": 3,
     "solution": false,
     "task": false
    }
   },
   "outputs": [],
   "source": [
    "# Please do NOT delete this cell"
   ]
  },
  {
   "cell_type": "markdown",
   "metadata": {
    "colab_type": "text",
    "id": "HTshaUKMyEwV"
   },
   "source": [
    "6. What is the median pupil-teacher ratio among the towns in this dataset? Name this number as the variable `med_pt`."
   ]
  },
  {
   "cell_type": "code",
   "execution_count": null,
   "metadata": {
    "colab": {},
    "colab_type": "code",
    "deletable": false,
    "id": "0GsaQGN_yEwW",
    "nbgrader": {
     "cell_type": "code",
     "checksum": "00d48f574ccb2f638bbc10879ba16058",
     "grade": false,
     "grade_id": "cell-534247de3a5f4a98",
     "locked": false,
     "schema_version": 3,
     "solution": true,
     "task": false
    }
   },
   "outputs": [],
   "source": [
    "# your code here\n",
    "\n",
    "\n",
    "# TODO: Uncomment and make changes\n",
    "# med_pt = 0"
   ]
  },
  {
   "cell_type": "code",
   "execution_count": null,
   "metadata": {
    "colab": {},
    "colab_type": "code",
    "deletable": false,
    "editable": false,
    "id": "36LdwV2-yEwY",
    "nbgrader": {
     "cell_type": "code",
     "checksum": "f6c2e5653b8db5ffdc67b55e0a86f631",
     "grade": true,
     "grade_id": "cell-0811a605c16f3b4e",
     "locked": true,
     "points": 15,
     "schema_version": 3,
     "solution": false,
     "task": false
    }
   },
   "outputs": [],
   "source": [
    "# Please do NOT delete this cell"
   ]
  },
  {
   "cell_type": "markdown",
   "metadata": {
    "colab_type": "text",
    "id": "B7e5hzjDyEwa"
   },
   "source": [
    "7. Which town of Boston has lowest median value of owner- occupied homes? Name this index as the variable `min_medv`. What are the values of the other predictors for that suburb, and how do those values compare to the overall ranges for those predictors? Comment on your observations."
   ]
  },
  {
   "cell_type": "code",
   "execution_count": null,
   "metadata": {
    "colab": {},
    "colab_type": "code",
    "deletable": false,
    "id": "xV29nCpqyEwb",
    "nbgrader": {
     "cell_type": "code",
     "checksum": "f3dd1134b20cf1f3dab105350d5c3772",
     "grade": false,
     "grade_id": "cell-8a51c6ed934949d1",
     "locked": false,
     "schema_version": 3,
     "solution": true,
     "task": false
    }
   },
   "outputs": [],
   "source": [
    "# your code here\n",
    "\n",
    "\n",
    "# TODO: Uncomment and make changes\n",
    "# min_medv = 0"
   ]
  },
  {
   "cell_type": "code",
   "execution_count": null,
   "metadata": {
    "colab": {},
    "colab_type": "code",
    "deletable": false,
    "editable": false,
    "id": "ub9ZLfojyEwe",
    "nbgrader": {
     "cell_type": "code",
     "checksum": "8bd3d527711932c1db4a6fe6daabe513",
     "grade": true,
     "grade_id": "cell-1491a8d0f58602e6",
     "locked": true,
     "points": 20,
     "schema_version": 3,
     "solution": false,
     "task": false
    }
   },
   "outputs": [],
   "source": [
    "# Please do NOT delete this cell"
   ]
  },
  {
   "cell_type": "markdown",
   "metadata": {
    "colab_type": "text",
    "deletable": false,
    "editable": false,
    "id": "JOVtQ0cryEwg",
    "nbgrader": {
     "cell_type": "markdown",
     "checksum": "e2698bc773eb39ce18c4f18c1d62172c",
     "grade": false,
     "grade_id": "cell-0a60b9d19d3a9e1d",
     "locked": true,
     "schema_version": 3,
     "solution": false,
     "task": false
    }
   },
   "source": [
    "8. In this data set, how many of the suburbs average more than eight rooms per dwelling? Name this number as the variable `num_rooms`. Comment on the suburbs that average more than eight rooms per dwelling."
   ]
  },
  {
   "cell_type": "code",
   "execution_count": null,
   "metadata": {
    "colab": {},
    "colab_type": "code",
    "deletable": false,
    "id": "hzQHzUgFyEwh",
    "nbgrader": {
     "cell_type": "code",
     "checksum": "28ef80e9a08c97ecd2a8a91787d934cc",
     "grade": false,
     "grade_id": "cell-da00ed973943a880",
     "locked": false,
     "schema_version": 3,
     "solution": true,
     "task": false
    }
   },
   "outputs": [],
   "source": [
    "# your code here\n",
    "\n",
    "\n",
    "# TODO: Uncomment and make changes\n",
    "# num_rooms = 0"
   ]
  },
  {
   "cell_type": "code",
   "execution_count": null,
   "metadata": {
    "colab": {},
    "colab_type": "code",
    "deletable": false,
    "editable": false,
    "id": "Sfgq7evJyEwj",
    "nbgrader": {
     "cell_type": "code",
     "checksum": "7372638b076e35e9ff89e845e1d986d7",
     "grade": true,
     "grade_id": "cell-0fe65bc3d78336c8",
     "locked": true,
     "points": 20,
     "schema_version": 3,
     "solution": false,
     "task": false
    }
   },
   "outputs": [],
   "source": [
    "# Please do NOT delete this cell"
   ]
  }
 ],
 "metadata": {
  "colab": {
   "name": "ESE542-P2.ipynb",
   "provenance": []
  },
  "kernelspec": {
   "display_name": "Python 3",
   "language": "python",
   "name": "python3"
  },
  "language_info": {
   "codemirror_mode": {
    "name": "ipython",
    "version": 3
   },
   "file_extension": ".py",
   "mimetype": "text/x-python",
   "name": "python",
   "nbconvert_exporter": "python",
   "pygments_lexer": "ipython3",
   "version": "3.7.3"
  }
 },
 "nbformat": 4,
 "nbformat_minor": 1
}
